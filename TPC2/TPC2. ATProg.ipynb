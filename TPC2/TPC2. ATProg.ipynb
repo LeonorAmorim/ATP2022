{
 "cells": [
  {
   "cell_type": "code",
   "execution_count": null,
   "metadata": {},
   "outputs": [],
   "source": [
    "print(\"Adivinha o numero \\n selecione 1 se pretende adivinhar \\n selecione 2 se pretende selecionar um numero\")\n",
    "\n",
    "n=int(input(\"selecione 1 se pretende adivinhar \\n selecione 2 se pretende selecionar um numero\"))\n",
    "if n==1:\n",
    "    resposta=random.randint(0,100)\n",
    "    tentativa=0\n",
    "    print(\"O numero já foi escolhido!\")\n",
    "    palpite=0\n",
    "    while palpite is not resposta:\n",
    "        tentativa+=1\n",
    "        palpite=int(input(\"Qual é o seu palpite?\"))\n",
    "        if palpite>resposta:\n",
    "            print(\"O numero que pensei é menor\")\n",
    "        elif palpite<resposta:\n",
    "            print(\"O numero que pensei é maior\")\n",
    "        else:   \n",
    "             print(\"Parabéns! O número gerado foi \",resposta, \"\\nAcertou em \",tentativa,\" tentativas!\")\n",
    "\n",
    "if n==2:\n",
    "    PCescolha= int(input(\"Escolhe um numero entre 0 e 100\"))\n",
    "    PCchoice=random.randint(0,100)\n",
    "    PCtentativas=0\n",
    "    print(\"O numero que escolhi foi o {}, é maior ou menor do que o numero escolhido?\".format(PCchoice))\n",
    "    while PCescolha!= PCchoice:\n",
    "        PCtentativas+=1\n",
    "        liminf=0\n",
    "        limsup=100\n",
    "        PCchoice=random.randint(0,100)\n",
    "        if PCchoice>PCescolha:\n",
    "            print(\"O numero que pensei é menor\")\n",
    "            limsup=PCchoice\n",
    "            PCchoice=random.randint(liminf,limsup)\n",
    "        elif PCchoice<PCescolha:\n",
    "            print(\"O numero que pensei é maior\")\n",
    "            liminf=PCchoice\n",
    "            PCchoice=random.randint(liminf,limsup)\n",
    "        else: \n",
    "            print(\"Parabéns! O número gerado foi \",PCescolha, \"\\nAcertou em \",PCtentativas,\" tentativas!\")"
   ]
  }
 ],
 "metadata": {
  "kernelspec": {
   "display_name": "Python 3.10.7 64-bit",
   "language": "python",
   "name": "python3"
  },
  "language_info": {
   "name": "python",
   "version": "3.10.7"
  },
  "orig_nbformat": 4,
  "vscode": {
   "interpreter": {
    "hash": "99ca3cc4135effd912ee8a920963f7ef1d1ced99b3c815bf7084eb301160236c"
   }
  }
 },
 "nbformat": 4,
 "nbformat_minor": 2
}
